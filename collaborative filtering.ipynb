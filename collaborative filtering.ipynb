{
 "cells": [
  {
   "cell_type": "code",
   "execution_count": 1,
   "id": "aa55f83c",
   "metadata": {
    "scrolled": true
   },
   "outputs": [
    {
     "name": "stdout",
     "output_type": "stream",
     "text": [
      "Collecting fastai\n",
      "  Using cached fastai-2.5.2-py3-none-any.whl (186 kB)\n",
      "Requirement already satisfied: pandas in d:\\projects\\rec-system-poc\\venv\\lib\\site-packages (from fastai) (1.3.4)\n",
      "Requirement already satisfied: spacy<4 in d:\\projects\\rec-system-poc\\venv\\lib\\site-packages (from fastai) (3.1.3)\n",
      "Requirement already satisfied: torchvision>=0.8.2 in d:\\projects\\rec-system-poc\\venv\\lib\\site-packages (from fastai) (0.10.1)\n",
      "Requirement already satisfied: fastprogress>=0.2.4 in d:\\projects\\rec-system-poc\\venv\\lib\\site-packages (from fastai) (1.0.0)\n",
      "Requirement already satisfied: pillow>6.0.0 in d:\\projects\\rec-system-poc\\venv\\lib\\site-packages (from fastai) (8.4.0)\n",
      "Requirement already satisfied: requests in d:\\projects\\rec-system-poc\\venv\\lib\\site-packages (from fastai) (2.26.0)\n",
      "Requirement already satisfied: pip in d:\\projects\\rec-system-poc\\venv\\lib\\site-packages (from fastai) (21.3)\n",
      "Requirement already satisfied: scikit-learn in d:\\projects\\rec-system-poc\\venv\\lib\\site-packages (from fastai) (1.0)\n",
      "Collecting matplotlib\n",
      "  Using cached matplotlib-3.4.3-cp37-cp37m-win_amd64.whl (7.2 MB)\n",
      "Requirement already satisfied: scipy in d:\\projects\\rec-system-poc\\venv\\lib\\site-packages (from fastai) (1.7.1)\n",
      "Requirement already satisfied: torch<1.10,>=1.7.0 in d:\\projects\\rec-system-poc\\venv\\lib\\site-packages (from fastai) (1.9.1)\n",
      "Requirement already satisfied: packaging in d:\\projects\\rec-system-poc\\venv\\lib\\site-packages (from fastai) (21.0)\n",
      "Requirement already satisfied: fastcore<1.4,>=1.3.8 in d:\\projects\\rec-system-poc\\venv\\lib\\site-packages (from fastai) (1.3.26)\n",
      "Requirement already satisfied: pyyaml in d:\\projects\\rec-system-poc\\venv\\lib\\site-packages (from fastai) (6.0)\n",
      "Collecting fastdownload<2,>=0.0.5\n",
      "  Using cached fastdownload-0.0.5-py3-none-any.whl (13 kB)\n",
      "Requirement already satisfied: numpy in d:\\projects\\rec-system-poc\\venv\\lib\\site-packages (from fastprogress>=0.2.4->fastai) (1.21.2)\n",
      "Requirement already satisfied: wasabi<1.1.0,>=0.8.1 in d:\\projects\\rec-system-poc\\venv\\lib\\site-packages (from spacy<4->fastai) (0.8.2)\n",
      "Requirement already satisfied: cymem<2.1.0,>=2.0.2 in d:\\projects\\rec-system-poc\\venv\\lib\\site-packages (from spacy<4->fastai) (2.0.5)\n",
      "Requirement already satisfied: setuptools in d:\\projects\\rec-system-poc\\venv\\lib\\site-packages (from spacy<4->fastai) (58.2.0)\n",
      "Requirement already satisfied: pathy>=0.3.5 in d:\\projects\\rec-system-poc\\venv\\lib\\site-packages (from spacy<4->fastai) (0.6.0)\n",
      "Requirement already satisfied: thinc<8.1.0,>=8.0.9 in d:\\projects\\rec-system-poc\\venv\\lib\\site-packages (from spacy<4->fastai) (8.0.10)\n",
      "Note: you may need to restart the kernel to use updated packages.\n",
      "Requirement already satisfied: catalogue<2.1.0,>=2.0.6 in d:\\projects\\rec-system-poc\\venv\\lib\\site-packages (from spacy<4->fastai) (2.0.6)\n",
      "Requirement already satisfied: jinja2 in d:\\projects\\rec-system-poc\\venv\\lib\\site-packages (from spacy<4->fastai) (3.0.2)\n",
      "Requirement already satisfied: typer<0.5.0,>=0.3.0 in d:\\projects\\rec-system-poc\\venv\\lib\\site-packages (from spacy<4->fastai) (0.4.0)\n",
      "Requirement already satisfied: typing-extensions<4.0.0.0,>=3.7.4 in d:\\projects\\rec-system-poc\\venv\\lib\\site-packages (from spacy<4->fastai) (3.10.0.2)\n",
      "Requirement already satisfied: preshed<3.1.0,>=3.0.2 in d:\\projects\\rec-system-poc\\venv\\lib\\site-packages (from spacy<4->fastai) (3.0.5)\n",
      "Requirement already satisfied: spacy-legacy<3.1.0,>=3.0.8 in d:\\projects\\rec-system-poc\\venv\\lib\\site-packages (from spacy<4->fastai) (3.0.8)\n",
      "Requirement already satisfied: srsly<3.0.0,>=2.4.1 in d:\\projects\\rec-system-poc\\venv\\lib\\site-packages (from spacy<4->fastai) (2.4.1)\n",
      "Requirement already satisfied: murmurhash<1.1.0,>=0.28.0 in d:\\projects\\rec-system-poc\\venv\\lib\\site-packages (from spacy<4->fastai) (1.0.5)\n",
      "Requirement already satisfied: blis<0.8.0,>=0.4.0 in d:\\projects\\rec-system-poc\\venv\\lib\\site-packages (from spacy<4->fastai) (0.7.4)\n",
      "Requirement already satisfied: tqdm<5.0.0,>=4.38.0 in d:\\projects\\rec-system-poc\\venv\\lib\\site-packages (from spacy<4->fastai) (4.62.3)\n",
      "Requirement already satisfied: pydantic!=1.8,!=1.8.1,<1.9.0,>=1.7.4 in d:\\projects\\rec-system-poc\\venv\\lib\\site-packages (from spacy<4->fastai) (1.8.2)\n",
      "Requirement already satisfied: pyparsing>=2.0.2 in d:\\projects\\rec-system-poc\\venv\\lib\\site-packages (from packaging->fastai) (2.4.7)\n",
      "Requirement already satisfied: certifi>=2017.4.17 in d:\\projects\\rec-system-poc\\venv\\lib\\site-packages (from requests->fastai) (2021.10.8)\n",
      "Requirement already satisfied: idna<4,>=2.5 in d:\\projects\\rec-system-poc\\venv\\lib\\site-packages (from requests->fastai) (3.3)\n",
      "Requirement already satisfied: urllib3<1.27,>=1.21.1 in d:\\projects\\rec-system-poc\\venv\\lib\\site-packages (from requests->fastai) (1.26.7)\n",
      "Requirement already satisfied: charset-normalizer~=2.0.0 in d:\\projects\\rec-system-poc\\venv\\lib\\site-packages (from requests->fastai) (2.0.7)\n",
      "Requirement already satisfied: python-dateutil>=2.7 in d:\\projects\\rec-system-poc\\venv\\lib\\site-packages (from matplotlib->fastai) (2.8.2)\n",
      "Requirement already satisfied: cycler>=0.10 in d:\\projects\\rec-system-poc\\venv\\lib\\site-packages (from matplotlib->fastai) (0.10.0)\n",
      "Requirement already satisfied: kiwisolver>=1.0.1 in d:\\projects\\rec-system-poc\\venv\\lib\\site-packages (from matplotlib->fastai) (1.3.2)\n",
      "Requirement already satisfied: pytz>=2017.3 in d:\\projects\\rec-system-poc\\venv\\lib\\site-packages (from pandas->fastai) (2021.3)\n",
      "Requirement already satisfied: threadpoolctl>=2.0.0 in d:\\projects\\rec-system-poc\\venv\\lib\\site-packages (from scikit-learn->fastai) (3.0.0)\n",
      "Requirement already satisfied: joblib>=0.11 in d:\\projects\\rec-system-poc\\venv\\lib\\site-packages (from scikit-learn->fastai) (1.1.0)\n",
      "Requirement already satisfied: zipp>=0.5 in d:\\projects\\rec-system-poc\\venv\\lib\\site-packages (from catalogue<2.1.0,>=2.0.6->spacy<4->fastai) (3.6.0)\n",
      "Requirement already satisfied: six in d:\\projects\\rec-system-poc\\venv\\lib\\site-packages (from cycler>=0.10->matplotlib->fastai) (1.16.0)\n",
      "Requirement already satisfied: smart-open<6.0.0,>=5.0.0 in d:\\projects\\rec-system-poc\\venv\\lib\\site-packages (from pathy>=0.3.5->spacy<4->fastai) (5.2.1)\n",
      "Requirement already satisfied: colorama in d:\\projects\\rec-system-poc\\venv\\lib\\site-packages (from tqdm<5.0.0,>=4.38.0->spacy<4->fastai) (0.4.4)\n",
      "Requirement already satisfied: click<9.0.0,>=7.1.1 in d:\\projects\\rec-system-poc\\venv\\lib\\site-packages (from typer<0.5.0,>=0.3.0->spacy<4->fastai) (8.0.3)\n",
      "Requirement already satisfied: MarkupSafe>=2.0 in d:\\projects\\rec-system-poc\\venv\\lib\\site-packages (from jinja2->spacy<4->fastai) (2.0.1)\n",
      "Requirement already satisfied: importlib-metadata in d:\\projects\\rec-system-poc\\venv\\lib\\site-packages (from click<9.0.0,>=7.1.1->typer<0.5.0,>=0.3.0->spacy<4->fastai) (4.8.1)\n",
      "Installing collected packages: matplotlib, fastdownload, fastai\n",
      "Successfully installed fastai-2.5.2 fastdownload-0.0.5 matplotlib-3.4.3\n"
     ]
    }
   ],
   "source": [
    "pip install fastai"
   ]
  },
  {
   "cell_type": "code",
   "execution_count": 2,
   "id": "3851ab02",
   "metadata": {},
   "outputs": [
    {
     "data": {
      "text/html": [
       "\n",
       "    <div>\n",
       "        <style>\n",
       "            /* Turns off some styling */\n",
       "            progress {\n",
       "                /* gets rid of default border in Firefox and Opera. */\n",
       "                border: none;\n",
       "                /* Needs to be in here for Safari polyfill so background images work as expected. */\n",
       "                background-size: auto;\n",
       "            }\n",
       "            .progress-bar-interrupted, .progress-bar-interrupted::-webkit-progress-bar {\n",
       "                background: #F44336;\n",
       "            }\n",
       "        </style>\n",
       "      <progress value='4931584' class='' max='4924029' style='width:300px; height:20px; vertical-align: middle;'></progress>\n",
       "      100.15% [4931584/4924029 00:01<00:00]\n",
       "    </div>\n",
       "    "
      ],
      "text/plain": [
       "<IPython.core.display.HTML object>"
      ]
     },
     "metadata": {},
     "output_type": "display_data"
    },
    {
     "data": {
      "text/html": [
       "<div>\n",
       "<style scoped>\n",
       "    .dataframe tbody tr th:only-of-type {\n",
       "        vertical-align: middle;\n",
       "    }\n",
       "\n",
       "    .dataframe tbody tr th {\n",
       "        vertical-align: top;\n",
       "    }\n",
       "\n",
       "    .dataframe thead th {\n",
       "        text-align: right;\n",
       "    }\n",
       "</style>\n",
       "<table border=\"1\" class=\"dataframe\">\n",
       "  <thead>\n",
       "    <tr style=\"text-align: right;\">\n",
       "      <th></th>\n",
       "      <th>user</th>\n",
       "      <th>movie</th>\n",
       "      <th>rating</th>\n",
       "      <th>timestamp</th>\n",
       "    </tr>\n",
       "  </thead>\n",
       "  <tbody>\n",
       "    <tr>\n",
       "      <th>0</th>\n",
       "      <td>196</td>\n",
       "      <td>242</td>\n",
       "      <td>3</td>\n",
       "      <td>881250949</td>\n",
       "    </tr>\n",
       "    <tr>\n",
       "      <th>1</th>\n",
       "      <td>186</td>\n",
       "      <td>302</td>\n",
       "      <td>3</td>\n",
       "      <td>891717742</td>\n",
       "    </tr>\n",
       "    <tr>\n",
       "      <th>2</th>\n",
       "      <td>22</td>\n",
       "      <td>377</td>\n",
       "      <td>1</td>\n",
       "      <td>878887116</td>\n",
       "    </tr>\n",
       "    <tr>\n",
       "      <th>3</th>\n",
       "      <td>244</td>\n",
       "      <td>51</td>\n",
       "      <td>2</td>\n",
       "      <td>880606923</td>\n",
       "    </tr>\n",
       "    <tr>\n",
       "      <th>4</th>\n",
       "      <td>166</td>\n",
       "      <td>346</td>\n",
       "      <td>1</td>\n",
       "      <td>886397596</td>\n",
       "    </tr>\n",
       "  </tbody>\n",
       "</table>\n",
       "</div>"
      ],
      "text/plain": [
       "   user  movie  rating  timestamp\n",
       "0   196    242       3  881250949\n",
       "1   186    302       3  891717742\n",
       "2    22    377       1  878887116\n",
       "3   244     51       2  880606923\n",
       "4   166    346       1  886397596"
      ]
     },
     "execution_count": 2,
     "metadata": {},
     "output_type": "execute_result"
    }
   ],
   "source": [
    "from fastai.collab import *\n",
    "from fastai.tabular.all import *\n",
    "path = untar_data(URLs.ML_100k)\n",
    "ratings = pd.read_csv(path/'u.data', delimiter='\\t', header=None,\n",
    "                      names=['user','movie','rating','timestamp'])\n",
    "ratings.head()"
   ]
  }
 ],
 "metadata": {
  "kernelspec": {
   "display_name": "Python 3 (ipykernel)",
   "language": "python",
   "name": "python3"
  },
  "language_info": {
   "codemirror_mode": {
    "name": "ipython",
    "version": 3
   },
   "file_extension": ".py",
   "mimetype": "text/x-python",
   "name": "python",
   "nbconvert_exporter": "python",
   "pygments_lexer": "ipython3",
   "version": "3.7.8"
  }
 },
 "nbformat": 4,
 "nbformat_minor": 5
}
